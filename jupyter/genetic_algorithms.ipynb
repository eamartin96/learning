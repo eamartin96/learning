{
 "cells": [
  {
   "cell_type": "markdown",
   "id": "9918d481-c334-41ef-a5a3-76f1768dd62e",
   "metadata": {},
   "source": [
    "# Genetic Algoritms\n",
    "Example taken from [Algoritmos Genéticos en Python (Youtube)](https://www.youtube.com/watch?v=yAqq-IuDbrQ&ab_channel=PyProMx)"
   ]
  },
  {
   "cell_type": "code",
   "execution_count": 1,
   "id": "ef295913-7584-4bc3-8b9e-edd03468bb7f",
   "metadata": {},
   "outputs": [],
   "source": [
    "import datetime\n",
    "import random "
   ]
  },
  {
   "cell_type": "code",
   "execution_count": 2,
   "id": "88833053-c1fc-4669-b61c-88447f627bd6",
   "metadata": {},
   "outputs": [],
   "source": [
    "random.seed(2)\n",
    "startTime = datetime.datetime.now()"
   ]
  },
  {
   "cell_type": "markdown",
   "id": "071ce5c0-a055-4cfe-adf5-52e1bfb03582",
   "metadata": {},
   "source": [
    "### Set a pool of genes and the target"
   ]
  },
  {
   "cell_type": "code",
   "execution_count": 3,
   "id": "7aad1cf8-37ad-4ba7-b95a-4c5ef3b8144c",
   "metadata": {},
   "outputs": [],
   "source": [
    "geneSet = 'abcdefghijklmnopqrstuvwxyzABCDEFGHIJKLMNOPQRSTUVWXYZ '\n",
    "target = 'Hello world'"
   ]
  },
  {
   "cell_type": "markdown",
   "id": "a4b7271a-eba0-4e03-903a-d8cece6558d1",
   "metadata": {},
   "source": [
    "### Function to generate a random sample"
   ]
  },
  {
   "cell_type": "code",
   "execution_count": 4,
   "id": "8d737133-19d6-4676-8a2c-a8153d81a33f",
   "metadata": {},
   "outputs": [],
   "source": [
    "def generate_parent(length):\n",
    "    genes = []\n",
    "    while len(genes) < length:\n",
    "        sampleSize = min(length - len(genes), len(geneSet))\n",
    "        genes.extend(random.sample(geneSet, sampleSize))\n",
    "    return ''.join(genes)"
   ]
  },
  {
   "cell_type": "markdown",
   "id": "c5f3c853-2669-4869-afae-2706e681b730",
   "metadata": {},
   "source": [
    "### Sum 1 if the random sample matches the character and position"
   ]
  },
  {
   "cell_type": "code",
   "execution_count": 5,
   "id": "426c62e4-2440-4e90-969c-c5f84c000163",
   "metadata": {},
   "outputs": [],
   "source": [
    "def get_fitness(guess):\n",
    "    return sum(1 for expected, actual in zip(target, guess) if expected == actual)"
   ]
  },
  {
   "cell_type": "markdown",
   "id": "8669c88b-a849-477c-b2d2-bea2df65933e",
   "metadata": {},
   "source": [
    "### Create a new random sample from the Parent sample"
   ]
  },
  {
   "cell_type": "code",
   "execution_count": 6,
   "id": "b9f2060e-afb3-4a90-92c9-5700943c4c52",
   "metadata": {},
   "outputs": [],
   "source": [
    "def mutate(parent):\n",
    "    index = random.randrange(0, len(parent))\n",
    "    childGenes = list(parent)\n",
    "    newGene, alternate = random.sample(geneSet, 2)\n",
    "    childGenes[index] = alternate if newGene == childGenes[index] else newGene\n",
    "    return ''.join(childGenes)"
   ]
  },
  {
   "cell_type": "code",
   "execution_count": 7,
   "id": "ac25589b-5136-47a9-95bf-49f8a28933f4",
   "metadata": {},
   "outputs": [],
   "source": [
    "def display(guess):\n",
    "    timeDiff = datetime.datetime.now() - startTime\n",
    "    fitness = get_fitness(guess)\n",
    "    print('{}\\t{}\\t{}'.format(guess, fitness, timeDiff))"
   ]
  },
  {
   "cell_type": "code",
   "execution_count": 8,
   "id": "271b3411-f288-4d1f-9384-6815da0bb95b",
   "metadata": {},
   "outputs": [],
   "source": [
    "bestParent = generate_parent(len(target))\n",
    "bestFitness = get_fitness(bestParent)"
   ]
  },
  {
   "cell_type": "code",
   "execution_count": 9,
   "id": "8fceb4ab-e815-4dc6-861c-1f9a087c3f22",
   "metadata": {},
   "outputs": [
    {
     "name": "stdout",
     "output_type": "stream",
     "text": [
      "dfZxk QtqMn\t1\t0:00:00.084464\n",
      "deZxk QtqMn\t2\t0:00:00.085046\n",
      "HeZxk QtqMn\t3\t0:00:00.085929\n",
      "HeZxk QtrMn\t4\t0:00:00.089258\n",
      "HeZxo QtrMn\t5\t0:00:00.091114\n",
      "HeZxo Qtrln\t6\t0:00:00.093519\n",
      "Helxo Qtrln\t7\t0:00:00.094460\n",
      "Hello Qtrln\t8\t0:00:00.096987\n",
      "Hello wtrln\t9\t0:00:00.108909\n",
      "Hello wtrld\t10\t0:00:00.109452\n",
      "Hello world\t11\t0:00:00.109863\n"
     ]
    }
   ],
   "source": [
    "while True:\n",
    "    child = mutate(bestParent)\n",
    "    childFitness = get_fitness(child)\n",
    "    if bestFitness >= childFitness:\n",
    "        continue\n",
    "    display(child)\n",
    "    if childFitness >= len(bestParent):\n",
    "        break\n",
    "    bestFitness = childFitness\n",
    "    bestParent = child"
   ]
  }
 ],
 "metadata": {
  "kernelspec": {
   "display_name": "Python 3 (ipykernel)",
   "language": "python",
   "name": "python3"
  },
  "language_info": {
   "codemirror_mode": {
    "name": "ipython",
    "version": 3
   },
   "file_extension": ".py",
   "mimetype": "text/x-python",
   "name": "python",
   "nbconvert_exporter": "python",
   "pygments_lexer": "ipython3",
   "version": "3.12.3"
  }
 },
 "nbformat": 4,
 "nbformat_minor": 5
}
